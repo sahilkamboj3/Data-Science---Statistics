{
 "cells": [
  {
   "cell_type": "markdown",
   "metadata": {},
   "source": [
    "<h1>ANOVA Test</h1>\n",
    "<h5>Categorical vs. Numerical</h5>"
   ]
  },
  {
   "cell_type": "markdown",
   "metadata": {},
   "source": [
    "<p>\n",
    "    The ANOVA test is used to compare the categorical variables to the numerical variables to see if they're related with each other. The formula for the ANOVA test is used to find the f-score between the numerical and the categorical variables. Using that f-score, we can compare it to the possible scores and possibilites in the f-distribution table, as shown below, and through that, we can see if our variables are correlated or not.\n",
    "</p>"
   ]
  },
  {
   "cell_type": "markdown",
   "metadata": {},
   "source": [
    "<img src='https://www.statext.com/tables/F-Table(1-10,1-30,0.01).jpg'>"
   ]
  },
  {
   "cell_type": "markdown",
   "metadata": {},
   "source": [
    "<h3>Squared Sum Within</h3>\n",
    "<p>\n",
    "    To calculate the squared sums within each group, we have to find the mean of each category, assuming the categories have been separated with their respective numerical values in them, and subtract each point from the mean and sum up the square of those values. \n",
    "</p>"
   ]
  },
  {
   "cell_type": "markdown",
   "metadata": {},
   "source": [
    "<h3>Squared Sum Between</h3>\n",
    "<p>\n",
    "    To calculate the squared sums between each group, we have to first calculate the mean of all the data points together. Once we do that, we find the mean of each of the individual categorical groups with their numerical values and find the sum of the difference squared times how many ever points are in that individual category. This means we take each individual mean, subtract it from the overall mean, square it, multipy it by the # of samples in that individual category, and do this for all the individual means and add them up. This is the squared sums between. \n",
    "</p>"
   ]
  },
  {
   "cell_type": "markdown",
   "metadata": {},
   "source": [
    "<h3>Squared Sum Total</h3>\n",
    "<p>\n",
    "    To calculate the squared sums total, we combine all the data points and simply just subtract each point from the mean of all of those points and find the sum of those differences squared. \n",
    "</p>"
   ]
  },
  {
   "cell_type": "markdown",
   "metadata": {},
   "source": [
    "<img src='https://www.easycalculation.com/statistics/image/ANOVA_SumsOfSquares.png' width='500px'>"
   ]
  },
  {
   "cell_type": "markdown",
   "metadata": {},
   "source": [
    "<p>xij = the individual points</p>\n",
    "<p>xj = the mean of that individual categorical variable</p>\n",
    "<p>x = overall mean of all the points</p>"
   ]
  },
  {
   "cell_type": "markdown",
   "metadata": {},
   "source": [
    "<h3>F Ratio</h3>"
   ]
  },
  {
   "cell_type": "markdown",
   "metadata": {},
   "source": [
    "<p>\n",
    "    To find the F ratio, you have to divide the squared sum between / squared sums within. One thing to note is that with each of the squared sums, you have to divide it by the degrees of freedom.\n",
    "</p>\n",
    "<p>\n",
    "    For the squared sums between, the degrees of freedom is going to be the total number of individual categories - 1.\n",
    "</p>\n",
    "<p>\n",
    "    For the squared sums within, the degrees of freedom is going to be the total number of data points amongst all of the categories - the number of individual categories, in other words, for each individual category, take the number of data points in that individual category, subtract 1, and sum up the degrees of freedom for all the individual categories for the degrees of freedom for squared sums within.\n",
    "</p>"
   ]
  },
  {
   "cell_type": "markdown",
   "metadata": {},
   "source": [
    "<img src='https://help.gooddata.com/doc/files/en/34341673/34359896/3/1429433401420/Example+ANOVA+table.png'>"
   ]
  },
  {
   "cell_type": "markdown",
   "metadata": {},
   "source": [
    "<h3>Final Step</h3>"
   ]
  },
  {
   "cell_type": "markdown",
   "metadata": {},
   "source": [
    "<p>\n",
    "    The final step is to look up the f ratio in the f distribution table, copied below again, based on the degrees of freedom and of the squared sums between and within, and see if the ratio and correlation are statistically significant.\n",
    "</p>"
   ]
  },
  {
   "cell_type": "markdown",
   "metadata": {},
   "source": [
    "<img src='https://www.statext.com/tables/F-Table(1-10,1-30,0.01).jpg'>"
   ]
  }
 ],
 "metadata": {
  "kernelspec": {
   "display_name": "Python 3.7.3 64-bit",
   "language": "python",
   "name": "python37364bitfa9893814aec4ef7b4684d6771155a64"
  },
  "language_info": {
   "codemirror_mode": {
    "name": "ipython",
    "version": 3
   },
   "file_extension": ".py",
   "mimetype": "text/x-python",
   "name": "python",
   "nbconvert_exporter": "python",
   "pygments_lexer": "ipython3",
   "version": "3.7.3"
  }
 },
 "nbformat": 4,
 "nbformat_minor": 2
}
