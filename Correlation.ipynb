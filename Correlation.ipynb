{
 "cells": [
  {
   "cell_type": "markdown",
   "metadata": {},
   "source": [
    "<h1>Correlation (R)</h1>\n",
    "\n",
    "<h5>Numerical vs Numerical</h5>"
   ]
  },
  {
   "cell_type": "markdown",
   "metadata": {},
   "source": [
    "<p>The correlation can be used to find out how related (correlated) two sets of samples are to each other. The equation for this is below. Correlation is a value that is between -1 and 1 where is a position correlation represents a position relationship and negative correlation represents a negative correlation(inverse relationship). The more extreme a correlation value is, meaning if it's closer to 1 or -1, the more correlated the two variables. If the correlation is close to 0, the two samples aren't really related to each other.</p>"
   ]
  },
  {
   "cell_type": "markdown",
   "metadata": {},
   "source": [
    "<img src='https://lh3.googleusercontent.com/proxy/E1LZ00M47oqdp1Qf3DDT-Z7CC38FRr9lq59LMdou7irv9SyEtJRdCRrAAJTmsxTR6Or0Ppo4wUhIlT6nOhd28XRIVfqFc_ddEgtx3Q'>"
   ]
  },
  {
   "cell_type": "markdown",
   "metadata": {},
   "source": [
    "<ol>\n",
    "    <li>The first thing we do is find the mean in the respective samples and subtract each point from that mean.\n",
    "    <li>Once you have subtracted every point from its respective mean, you sum them up for the respective samples.\n",
    "    <li>Once we have those products, we multiply the two sums with each other. \n",
    "    <li>In the fourth step, we simply take the product of the two sums and divide it by product of the (Sx * Sy) where Sx is the standard deviation of the x sample set and Sy is the standard deviation of the y sample set.\n",
    "</ol>"
   ]
  },
  {
   "cell_type": "markdown",
   "metadata": {},
   "source": [
    "<img src='https://www.dummies.com/wp-content/uploads/359979.image0.jpg'>"
   ]
  },
  {
   "cell_type": "markdown",
   "metadata": {},
   "source": [
    "<h3>Examples</h3>\n",
    "<p>\n",
    "    Looking at these examples, we see that graphs a and c have strong, positive correlations. Obviously, A has a correlation value of almost 1 since the x and y are closely related to each other. Graph C would also be probably around 0.7 to 0.8 since x and y have a decently strong, positive relationship. Graph B probably has a -0.6 to -0.7 correlation coefficient because x and y are still moderately related to each other but they have an inverse relationship. This means that if they have a negative correlation. Lastlyl, Graph D doesn't really have a relationship between x and y, which means the correlation value is probably around 0 since there isn't a real relationship there.\n",
    "</p>"
   ]
  }
 ],
 "metadata": {
  "kernelspec": {
   "display_name": "Python 3.7.3 64-bit",
   "language": "python",
   "name": "python37364bitfa9893814aec4ef7b4684d6771155a64"
  },
  "language_info": {
   "codemirror_mode": {
    "name": "ipython",
    "version": 3
   },
   "file_extension": ".py",
   "mimetype": "text/x-python",
   "name": "python",
   "nbconvert_exporter": "python",
   "pygments_lexer": "ipython3",
   "version": "3.7.3"
  }
 },
 "nbformat": 4,
 "nbformat_minor": 2
}
