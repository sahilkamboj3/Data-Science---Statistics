{
 "cells": [
  {
   "cell_type": "markdown",
   "metadata": {},
   "source": [
    "<h1>Z-Test and Student's T-Test</h1>"
   ]
  },
  {
   "cell_type": "markdown",
   "metadata": {},
   "source": [
    "<p>\n",
    "    These two tests are used to find if there is a statistical significance between two sets of samples, whether they are two separate samples or two paired samples. (Two paired samples would be in the case where we look at the before and after effects a certain test or such.) Using the means, standard deviations, and the sample sizes of each of the samples, we can compute a z-score/t-score that we can compare to the critical value and see if the difference in the means are statistically significant.\n",
    "</p>\n",
    "\n",
    "<p>Generally, we use the 5% as the alpha value to judge whether or not the difference in the means are statistically significant. We could also use 2.5% if we are doing a 2-tailed z/t test. Using these alpha values, we can find the critical values we are looking for, like in the case for a t-test so we can judge if the difference in means are statistically significant, when we use the table below if we'd like.</p>\n",
    "\n",
    "<p>This also does mean that we use these tests to compare to numerical samples with one another.</p>"
   ]
  },
  {
   "cell_type": "markdown",
   "metadata": {},
   "source": [
    "<h2>Uses</h2>\n",
    "<ul>\n",
    "    <li>Compare the scores of 2 different machine learning models and their means (2 Sample Z/T test)</li>\n",
    "    <li>Compare the scores of the same machine learning models with different features and their means (Paired Sample Z/T test)</li>\n",
    "</ul>"
   ]
  },
  {
   "cell_type": "markdown",
   "metadata": {},
   "source": [
    "<h3>\n",
    "    The equation:\n",
    "</h3>"
   ]
  },
  {
   "cell_type": "markdown",
   "metadata": {},
   "source": [
    "<img src='https://www.biologyforlife.com/uploads/2/2/3/9/22392738/949234_orig.jpg'>"
   ]
  },
  {
   "cell_type": "markdown",
   "metadata": {},
   "source": [
    "<ul>\n",
    "    <li>Assume Normal Distribution</li>\n",
    "    <li>Same Number of Datapoints</li>\n",
    "    <li>Similar Variance</li>\n",
    "</ul>"
   ]
  },
  {
   "cell_type": "markdown",
   "metadata": {},
   "source": [
    "<h3>\n",
    "    Z-Test\n",
    "</h3>\n",
    "<ul>\n",
    "    <li>Use When You Have 30+ Datapoints</li>\n",
    "</ul>"
   ]
  },
  {
   "cell_type": "markdown",
   "metadata": {},
   "source": [
    "<h3>\n",
    "    T-Test\n",
    "</h3>\n",
    "<ul>\n",
    "    <li>Use When You Have Less Than 30 Datapoints</li>\n",
    "    <li>Degrees of Freedom = Datapoints in Sample 1 + Datapoints in Sample 2 - 2</li>\n",
    "    <li>Find Critical Value Using the Table Below:</li>\n",
    "</ul>"
   ]
  },
  {
   "cell_type": "markdown",
   "metadata": {},
   "source": [
    "<img src='https://www.biologyforlife.com/uploads/2/2/3/9/22392738/ttable.png'>"
   ]
  },
  {
   "cell_type": "code",
   "execution_count": null,
   "metadata": {},
   "outputs": [],
   "source": []
  }
 ],
 "metadata": {
  "kernelspec": {
   "display_name": "Python 3.7.3 64-bit",
   "language": "python",
   "name": "python37364bitfa9893814aec4ef7b4684d6771155a64"
  },
  "language_info": {
   "codemirror_mode": {
    "name": "ipython",
    "version": 3
   },
   "file_extension": ".py",
   "mimetype": "text/x-python",
   "name": "python",
   "nbconvert_exporter": "python",
   "pygments_lexer": "ipython3",
   "version": "3.7.3"
  }
 },
 "nbformat": 4,
 "nbformat_minor": 2
}
