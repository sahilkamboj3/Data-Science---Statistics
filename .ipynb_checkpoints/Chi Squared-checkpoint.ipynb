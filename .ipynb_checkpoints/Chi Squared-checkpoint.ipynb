{
 "cells": [
  {
   "cell_type": "markdown",
   "metadata": {},
   "source": [
    "<h1>Chi Squared Test</h1>\n",
    "<h5>Categorical vs Categorical</h5>"
   ]
  },
  {
   "cell_type": "markdown",
   "metadata": {},
   "source": [
    "<p>\n",
    "    The Chi Squared test is based on the idea of expected frequencies and observed frequencies. The idea is to see how far the expected frequencies are from the observed frequencies and through this, find the probabilty/chances of the observed frequencies occurring.\n",
    "</p>"
   ]
  },
  {
   "cell_type": "markdown",
   "metadata": {},
   "source": [
    "<img src ='https://www.researchgate.net/profile/Dr_Asif_Karim/publication/305084008/figure/tbl3/AS:669545350057993@1536643459300/Observed-frequencies-expected-frequency-of-respondents-opinions-in.png'>"
   ]
  },
  {
   "cell_type": "markdown",
   "metadata": {},
   "source": [
    "<h3>Finding the Expected Values</h3>\n",
    "\n",
    "<p>Ignoring the equation at the bottom, we can see there is a frequency table of accountants/auditors and time categories. Using these values, we can calculate the expected values by multiplying the row sum * column sum / the total sum.</p>\n",
    "\n",
    "<p>This means to find the expected value of an accountant crossing the always/frequently column, you find multiply the row sum (17.50326797 + 8.496732026) * column sum (17.50326797 + 80.78431373 + 4.712418301) and then divide that by total sum of all the frequencies. That would be the expected frequency of that one spot. You would do this for all the spots to find all the expected values.</p>"
   ]
  },
  {
   "cell_type": "markdown",
   "metadata": {},
   "source": [
    "<h3>Calulating the Chi Squared</h3>\n",
    "\n",
    "<p>\n",
    "    With the observed and expected values, what you do now is you take each observed value, subtract it from its respective expected value, squared it, and then divide it by the expected value. Once you do this for all the spots, you sum them up. \n",
    "</p>\n",
    "\n",
    "<p>\n",
    "    The degrees of freedom is the (# of rows - 1)(# of columns - 1). At the very end, you compare using the chi-squared distribution table using this degrees of freedom and the alpha value you choose.\n",
    "</p>"
   ]
  },
  {
   "cell_type": "markdown",
   "metadata": {},
   "source": [
    "<img src='https://www.z-table.com/uploads/2/1/7/9/21795380/3734414.png?815'>"
   ]
  },
  {
   "cell_type": "code",
   "execution_count": null,
   "metadata": {},
   "outputs": [],
   "source": []
  }
 ],
 "metadata": {
  "kernelspec": {
   "display_name": "Python 3.7.3 64-bit",
   "language": "python",
   "name": "python37364bitfa9893814aec4ef7b4684d6771155a64"
  },
  "language_info": {
   "codemirror_mode": {
    "name": "ipython",
    "version": 3
   },
   "file_extension": ".py",
   "mimetype": "text/x-python",
   "name": "python",
   "nbconvert_exporter": "python",
   "pygments_lexer": "ipython3",
   "version": "3.7.3"
  }
 },
 "nbformat": 4,
 "nbformat_minor": 2
}
